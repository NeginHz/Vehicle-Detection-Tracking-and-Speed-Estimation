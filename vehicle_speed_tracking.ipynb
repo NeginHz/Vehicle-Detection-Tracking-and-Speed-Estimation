{
  "nbformat": 4,
  "nbformat_minor": 0,
  "metadata": {
    "colab": {
      "provenance": []
    },
    "kernelspec": {
      "name": "python3",
      "display_name": "Python 3"
    },
    "language_info": {
      "name": "python"
    }
  },
  "cells": [
    {
      "cell_type": "markdown",
      "source": [
        "# Vehicle Detection, Tracking and Speed Estimation"
      ],
      "metadata": {
        "id": "iSLUju_ZfbT2"
      }
    },
    {
      "cell_type": "markdown",
      "source": [
        "This notebook detects, tracks, and estimates the speed of vehicles on a highway using YOLOv8 and DeepSORT."
      ],
      "metadata": {
        "id": "5cpSgvZvflsE"
      }
    },
    {
      "cell_type": "markdown",
      "source": [
        "# Install necessary dependencies"
      ],
      "metadata": {
        "id": "8LXQIgNhfnry"
      }
    },
    {
      "cell_type": "code",
      "execution_count": null,
      "metadata": {
        "id": "3HK5I50mfZcL"
      },
      "outputs": [],
      "source": [
        "!pip install ultralytics deep-sort-realtime opencv-python-headless\n",
        "\n",
        "import os\n",
        "import cv2\n",
        "import math\n",
        "import torch\n",
        "import numpy as np\n",
        "from ultralytics import YOLO\n",
        "from deep_sort_realtime.deepsort_tracker import DeepSort"
      ]
    },
    {
      "cell_type": "markdown",
      "source": [
        "# Ensure GPU is available"
      ],
      "metadata": {
        "id": "QgfQQX5ifrJE"
      }
    },
    {
      "cell_type": "code",
      "source": [
        "device = 'cuda' if torch.cuda.is_available() else 'cpu'\n",
        "print(f'Using device: {device}')"
      ],
      "metadata": {
        "id": "euUAk_M3fs6x"
      },
      "execution_count": null,
      "outputs": []
    },
    {
      "cell_type": "markdown",
      "source": [
        "# Define video path and create output directory"
      ],
      "metadata": {
        "id": "4u_IjYkqfvWD"
      }
    },
    {
      "cell_type": "code",
      "source": [
        "video_path = \"highway_video.mp4\"\n",
        "output_dir = \"results\"\n",
        "os.makedirs(output_dir, exist_ok=True)\n",
        "\n",
        "if not os.path.exists(video_path):\n",
        "    raise FileNotFoundError(f\"Video not found at {video_path}\")"
      ],
      "metadata": {
        "id": "-v5w_kYZfw_V"
      },
      "execution_count": null,
      "outputs": []
    },
    {
      "cell_type": "markdown",
      "source": [
        "# Load video"
      ],
      "metadata": {
        "id": "dKKKwDlff1oi"
      }
    },
    {
      "cell_type": "code",
      "source": [
        "cap = cv2.VideoCapture(video_path)\n",
        "fps = int(cap.get(cv2.CAP_PROP_FPS))\n",
        "width = int(cap.get(cv2.CAP_PROP_FRAME_WIDTH))\n",
        "height = int(cap.get(cv2.CAP_PROP_FRAME_HEIGHT))\n",
        "\n",
        "fourcc = cv2.VideoWriter_fourcc(*'mp4v')\n",
        "out = cv2.VideoWriter(os.path.join(output_dir, \"output.mp4\"), fourcc, fps, (width, height))\n"
      ],
      "metadata": {
        "id": "1pKcmrP3f1Mr"
      },
      "execution_count": null,
      "outputs": []
    },
    {
      "cell_type": "markdown",
      "source": [
        "# Load YOLOv8 model"
      ],
      "metadata": {
        "id": "z9cZ_ZlZgGaD"
      }
    },
    {
      "cell_type": "code",
      "source": [
        "model = YOLO(\"yolov8n.pt\").to(device)"
      ],
      "metadata": {
        "id": "hUa3cLO7gIzU"
      },
      "execution_count": null,
      "outputs": []
    },
    {
      "cell_type": "markdown",
      "source": [
        "# Initialize DeepSORT tracker"
      ],
      "metadata": {
        "id": "tbh9Bg4wgOoq"
      }
    },
    {
      "cell_type": "code",
      "source": [
        "tracker = DeepSort(max_age=15, n_init=5, nn_budget=100, max_cosine_distance=0.25)"
      ],
      "metadata": {
        "id": "-ULM9xgCgNxV"
      },
      "execution_count": null,
      "outputs": []
    },
    {
      "cell_type": "markdown",
      "source": [
        "# Speed estimation parameters"
      ],
      "metadata": {
        "id": "RPtW2roCgRTK"
      }
    },
    {
      "cell_type": "code",
      "source": [
        "pixel_to_meter = 0.0461  # Calibration required\n",
        "speed_limit_kmh = 30  # Speed limit in km/h\n",
        "car_positions = {}"
      ],
      "metadata": {
        "id": "CzEU4iG3gT-P"
      },
      "execution_count": null,
      "outputs": []
    },
    {
      "cell_type": "markdown",
      "source": [
        "# Process video frame by frame"
      ],
      "metadata": {
        "id": "bgFkuDdQgWav"
      }
    },
    {
      "cell_type": "code",
      "source": [
        "while cap.isOpened():\n",
        "    ret, frame = cap.read()\n",
        "    if not ret:\n",
        "        break\n",
        "\n",
        "    # Run YOLO detection\n",
        "    results = model(frame, stream=True)\n",
        "    detections = []\n",
        "    for result in results:\n",
        "        for box in result.boxes.cpu().numpy():\n",
        "            class_id = int(box.cls[0])\n",
        "            conf = float(box.conf[0])\n",
        "            if result.names[class_id] == 'car' and conf > 0.6:\n",
        "                x1, y1, x2, y2 = map(int, box.xyxy[0])\n",
        "                detections.append(((x1, y1, x2 - x1, y2 - y1), conf, 'car'))\n",
        "\n",
        "    # Track detected vehicles\n",
        "    if detections:\n",
        "        tracks = tracker.update_tracks(detections, frame=frame)\n",
        "        for track in tracks:\n",
        "            if not track.is_confirmed():\n",
        "                continue\n",
        "\n",
        "            track_id = track.track_id\n",
        "            x1, y1, x2, y2 = map(int, track.to_ltrb())\n",
        "            center_x, center_y = (x1 + x2) // 2, (y1 + y2) // 2\n",
        "\n",
        "            # Calculate speed\n",
        "            if track_id in car_positions:\n",
        "                prev_x, prev_y = car_positions[track_id]\n",
        "                distance_pixels = math.sqrt((center_x - prev_x)**2 + (center_y - prev_y)**2)\n",
        "                distance_meters = distance_pixels * pixel_to_meter\n",
        "                time_seconds = 1 / fps\n",
        "                speed_kmh = (distance_meters / time_seconds) * 3.6\n",
        "            else:\n",
        "                speed_kmh = 0\n",
        "\n",
        "            # Display speed and bounding box\n",
        "            color = (0, 255, 0) if speed_kmh <= speed_limit_kmh else (0, 0, 255)\n",
        "            cv2.rectangle(frame, (x1, y1), (x2, y2), color, 2)\n",
        "            cv2.putText(frame, f\"ID: {track_id} Speed: {speed_kmh:.2f} km/h\", (x1, y1 - 10),\n",
        "                        cv2.FONT_HERSHEY_SIMPLEX, 0.5, color, 2)\n",
        "\n",
        "            # Store position for next frame\n",
        "            car_positions[track_id] = (center_x, center_y)\n",
        "\n",
        "    # Save processed frame\n",
        "    out.write(frame)\n"
      ],
      "metadata": {
        "id": "0nZOCATygY5J"
      },
      "execution_count": null,
      "outputs": []
    },
    {
      "cell_type": "markdown",
      "source": [
        "# Release resources"
      ],
      "metadata": {
        "id": "pSKUPcrSgcsP"
      }
    },
    {
      "cell_type": "code",
      "source": [
        "cap.release()\n",
        "out.release()\n",
        "cv2.destroyAllWindows()\n",
        "print(\"Processing complete. Video saved in results/output.mp4\")"
      ],
      "metadata": {
        "id": "XloWuJDUge5n"
      },
      "execution_count": null,
      "outputs": []
    },
    {
      "cell_type": "markdown",
      "source": [
        "# Video result: https://www.youtube.com/watch?v=QpQxzGtMqsk\n"
      ],
      "metadata": {
        "id": "pg8v-Cp7ghiY"
      }
    }
  ]
}
